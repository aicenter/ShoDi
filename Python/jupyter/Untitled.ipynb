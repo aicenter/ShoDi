{
 "cells": [
  {
   "cell_type": "code",
   "execution_count": 1,
   "metadata": {},
   "outputs": [],
   "source": [
    "import random as ra"
   ]
  },
  {
   "cell_type": "code",
   "execution_count": null,
   "metadata": {},
   "outputs": [],
   "source": [
    "def rand(m, n):\n",
    "    seen = set()\n",
    "\n",
    "    x, y = randint(m, n), randint(m, n)\n",
    "\n",
    "    while True:\n",
    "        seen.add((x, y))\n",
    "        yield (x, y)\n",
    "        x, y = randint(m, n), randint(m, n)\n",
    "        while (x, y) in seen:\n",
    "            x, y = randint(m, n), randint(m, n)"
   ]
  },
  {
   "cell_type": "code",
   "execution_count": 14,
   "metadata": {},
   "outputs": [],
   "source": [
    "query_count = 200_000\n",
    "node_count = 10000\n",
    "out_path = \"../../build/Release/queries.txt\"\n",
    "nodes = [ra.randint(1, node_count) for _ in range(query_count * 2)]"
   ]
  },
  {
   "cell_type": "code",
   "execution_count": 15,
   "metadata": {},
   "outputs": [],
   "source": [
    "with open(out_path, 'w') as out_file:\n",
    "    out_file.write(str(query_count) + \"\\n\")\n",
    "    i = 0\n",
    "    while i < len(nodes):\n",
    "        out_file.write(\"{} {}\\n\".format(nodes[i], nodes[i + 1]))\n",
    "        i += 2\n",
    "        \n",
    "    "
   ]
  },
  {
   "cell_type": "code",
   "execution_count": null,
   "metadata": {},
   "outputs": [],
   "source": []
  },
  {
   "cell_type": "code",
   "execution_count": null,
   "metadata": {},
   "outputs": [],
   "source": []
  }
 ],
 "metadata": {
  "kernelspec": {
   "display_name": "Python 3",
   "language": "python",
   "name": "python3"
  },
  "language_info": {
   "codemirror_mode": {
    "name": "ipython",
    "version": 3
   },
   "file_extension": ".py",
   "mimetype": "text/x-python",
   "name": "python",
   "nbconvert_exporter": "python",
   "pygments_lexer": "ipython3",
   "version": "3.8.2"
  }
 },
 "nbformat": 4,
 "nbformat_minor": 4
}
