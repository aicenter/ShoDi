{
 "cells": [
  {
   "cell_type": "code",
   "metadata": {
    "ExecuteTime": {
     "end_time": "2025-06-05T19:13:42.986053Z",
     "start_time": "2025-06-05T19:13:42.728495Z"
    }
   },
   "source": [
    "import random as ra\n",
    "from pathlib import Path\n",
    "import pandas as pd"
   ],
   "outputs": [],
   "execution_count": 1
  },
  {
   "cell_type": "code",
   "metadata": {
    "ExecuteTime": {
     "end_time": "2025-06-05T19:16:14.061245Z",
     "start_time": "2025-06-05T19:16:14.058702Z"
    }
   },
   "source": [
    "map_path = Path(r\"D:\\Google Drive AIC\\AIC Experiment Data\\Chaining\\Instances\\DC\\map\")\n",
    "out_path = Path(r\"D:\\Google Drive AIC\\AIC Experiment Data\\Shodi\\DC/queries.txt\")\n",
    "query_count = 1000"
   ],
   "outputs": [],
   "execution_count": 5
  },
  {
   "cell_type": "code",
   "metadata": {
    "ExecuteTime": {
     "end_time": "2025-06-05T19:16:14.797736Z",
     "start_time": "2025-06-05T19:16:14.769060Z"
    }
   },
   "source": [
    "nodes = pd.read_csv(map_path / \"nodes.csv\", sep=\"\\t\")\n",
    "\n",
    "nodes"
   ],
   "outputs": [
    {
     "data": {
      "text/plain": [
       "          id        db_id          x          y\n",
       "0       1496     49167035 -77.071296  38.973270\n",
       "1       1497     49170731 -77.089416  38.959018\n",
       "2       1498     49174193 -77.091880  38.956939\n",
       "3      30455     49175765 -77.091270  38.957546\n",
       "4      30456     49177919 -77.075325  38.970275\n",
       "...      ...          ...        ...        ...\n",
       "33735  29496  10550655322 -76.999065  38.837215\n",
       "33736  29497  10550655324 -76.998715  38.836820\n",
       "33737  29498  10552806189 -76.995911  38.845794\n",
       "33738   1403  10552954040 -76.997408  38.847459\n",
       "33739   1402  10552954042 -76.997934  38.847750\n",
       "\n",
       "[33740 rows x 4 columns]"
      ],
      "text/html": [
       "<div>\n",
       "<style scoped>\n",
       "    .dataframe tbody tr th:only-of-type {\n",
       "        vertical-align: middle;\n",
       "    }\n",
       "\n",
       "    .dataframe tbody tr th {\n",
       "        vertical-align: top;\n",
       "    }\n",
       "\n",
       "    .dataframe thead th {\n",
       "        text-align: right;\n",
       "    }\n",
       "</style>\n",
       "<table border=\"1\" class=\"dataframe\">\n",
       "  <thead>\n",
       "    <tr style=\"text-align: right;\">\n",
       "      <th></th>\n",
       "      <th>id</th>\n",
       "      <th>db_id</th>\n",
       "      <th>x</th>\n",
       "      <th>y</th>\n",
       "    </tr>\n",
       "  </thead>\n",
       "  <tbody>\n",
       "    <tr>\n",
       "      <th>0</th>\n",
       "      <td>1496</td>\n",
       "      <td>49167035</td>\n",
       "      <td>-77.071296</td>\n",
       "      <td>38.973270</td>\n",
       "    </tr>\n",
       "    <tr>\n",
       "      <th>1</th>\n",
       "      <td>1497</td>\n",
       "      <td>49170731</td>\n",
       "      <td>-77.089416</td>\n",
       "      <td>38.959018</td>\n",
       "    </tr>\n",
       "    <tr>\n",
       "      <th>2</th>\n",
       "      <td>1498</td>\n",
       "      <td>49174193</td>\n",
       "      <td>-77.091880</td>\n",
       "      <td>38.956939</td>\n",
       "    </tr>\n",
       "    <tr>\n",
       "      <th>3</th>\n",
       "      <td>30455</td>\n",
       "      <td>49175765</td>\n",
       "      <td>-77.091270</td>\n",
       "      <td>38.957546</td>\n",
       "    </tr>\n",
       "    <tr>\n",
       "      <th>4</th>\n",
       "      <td>30456</td>\n",
       "      <td>49177919</td>\n",
       "      <td>-77.075325</td>\n",
       "      <td>38.970275</td>\n",
       "    </tr>\n",
       "    <tr>\n",
       "      <th>...</th>\n",
       "      <td>...</td>\n",
       "      <td>...</td>\n",
       "      <td>...</td>\n",
       "      <td>...</td>\n",
       "    </tr>\n",
       "    <tr>\n",
       "      <th>33735</th>\n",
       "      <td>29496</td>\n",
       "      <td>10550655322</td>\n",
       "      <td>-76.999065</td>\n",
       "      <td>38.837215</td>\n",
       "    </tr>\n",
       "    <tr>\n",
       "      <th>33736</th>\n",
       "      <td>29497</td>\n",
       "      <td>10550655324</td>\n",
       "      <td>-76.998715</td>\n",
       "      <td>38.836820</td>\n",
       "    </tr>\n",
       "    <tr>\n",
       "      <th>33737</th>\n",
       "      <td>29498</td>\n",
       "      <td>10552806189</td>\n",
       "      <td>-76.995911</td>\n",
       "      <td>38.845794</td>\n",
       "    </tr>\n",
       "    <tr>\n",
       "      <th>33738</th>\n",
       "      <td>1403</td>\n",
       "      <td>10552954040</td>\n",
       "      <td>-76.997408</td>\n",
       "      <td>38.847459</td>\n",
       "    </tr>\n",
       "    <tr>\n",
       "      <th>33739</th>\n",
       "      <td>1402</td>\n",
       "      <td>10552954042</td>\n",
       "      <td>-76.997934</td>\n",
       "      <td>38.847750</td>\n",
       "    </tr>\n",
       "  </tbody>\n",
       "</table>\n",
       "<p>33740 rows × 4 columns</p>\n",
       "</div>"
      ]
     },
     "execution_count": 6,
     "metadata": {},
     "output_type": "execute_result"
    }
   ],
   "execution_count": 6
  },
  {
   "cell_type": "code",
   "metadata": {
    "ExecuteTime": {
     "end_time": "2025-06-05T19:16:22.544743Z",
     "start_time": "2025-06-05T19:16:22.538680Z"
    }
   },
   "source": [
    "def generate_unique_queries(nodes_count, query_count):\n",
    "    selected_pairs_set = set()\n",
    "    # Max pairs if from != to. If nodes_count is 0 or 1, this will be 0.\n",
    "    max_possible_pairs = nodes_count * (nodes_count - 1) if nodes_count > 1 else 0\n",
    "\n",
    "    if query_count > max_possible_pairs:\n",
    "        print(f\"Warning: query_count ({query_count}) is greater than the maximum possible unique pairs ({max_possible_pairs}). Returning all possible pairs.\")\n",
    "        query_count = max_possible_pairs\n",
    "\n",
    "    if nodes_count < 2 and query_count > 0:\n",
    "        print(f\"Warning: Cannot generate pairs for nodes_count < 2. Returning empty DataFrame.\")\n",
    "        return pd.DataFrame(columns=['from', 'to'])\n",
    "\n",
    "    while len(selected_pairs_set) < query_count:\n",
    "        from_node = ra.randint(0, nodes_count - 1)\n",
    "        to_node = ra.randint(0, nodes_count - 1)\n",
    "        if from_node != to_node:\n",
    "            selected_pairs_set.add((from_node, to_node))\n",
    "\n",
    "    # Convert set to list and then to DataFrame\n",
    "    queries_df = pd.DataFrame(list(selected_pairs_set), columns=['from', 'to'])\n",
    "    return queries_df\n",
    "\n",
    "num_nodes = len(nodes)\n",
    "queries = generate_unique_queries(num_nodes, query_count)"
   ],
   "outputs": [],
   "execution_count": 7
  },
  {
   "cell_type": "code",
   "metadata": {
    "ExecuteTime": {
     "end_time": "2025-06-05T19:16:23.559537Z",
     "start_time": "2025-06-05T19:16:23.544737Z"
    }
   },
   "source": [
    "# Save to file according to the specified format:\n",
    "# First line: count of queries\n",
    "# Subsequent lines: from_node to_node\n",
    "# Assuming 'out_path' is defined in a previous cell\n",
    "with open(out_path, 'w') as f: # Make sure 'out_path' is defined in a previous cell\n",
    "    f.write(f\"{len(queries)}\\n\")\n",
    "    for index, row in queries.iterrows():\n",
    "        f.write(f\"{row['from']} {row['to']}\\n\")"
   ],
   "outputs": [],
   "execution_count": 8
  },
  {
   "metadata": {},
   "cell_type": "code",
   "outputs": [],
   "execution_count": null,
   "source": ""
  }
 ],
 "metadata": {
  "kernelspec": {
   "display_name": "Python 3",
   "language": "python",
   "name": "python3"
  },
  "language_info": {
   "codemirror_mode": {
    "name": "ipython",
    "version": 3
   },
   "file_extension": ".py",
   "mimetype": "text/x-python",
   "name": "python",
   "nbconvert_exporter": "python",
   "pygments_lexer": "ipython3",
   "version": "3.8.2"
  }
 },
 "nbformat": 4,
 "nbformat_minor": 4
}
