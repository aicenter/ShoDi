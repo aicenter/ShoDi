{
 "cells": [
  {
   "cell_type": "code",
   "execution_count": 5,
   "metadata": {
    "ExecuteTime": {
     "end_time": "2025-05-16T15:38:55.357762Z",
     "start_time": "2025-05-16T15:38:53.257762Z"
    }
   },
   "outputs": [],
   "source": [
    "import random as ra\n",
    "from pathlib import Path\n",
    "import pandas as pd"
   ]
  },
  {
   "cell_type": "code",
   "execution_count": 4,
   "metadata": {
    "ExecuteTime": {
     "end_time": "2025-05-16T15:37:45.917671Z",
     "start_time": "2025-05-16T15:37:45.906640Z"
    }
   },
   "outputs": [],
   "source": [
    "map_path = Path(\"C:\\Google Drive\\AIC Experiment Data\\Shodi\\Manhattan\")\n",
    "query_count = 1000"
   ]
  },
  {
   "cell_type": "code",
   "metadata": {
    "ExecuteTime": {
     "end_time": "2025-05-16T16:08:25.212665Z",
     "start_time": "2025-05-16T16:08:25.190525Z"
    }
   },
   "source": [
    "nodes = pd.read_csv(map_path / \"nodes.csv\", sep=\"\\t\")\n",
    "out_path = map_path / \"queries.txt\"\n",
    "nodes"
   ],
   "outputs": [
    {
     "data": {
      "text/plain": [
       "        id       db_id          x          y\n",
       "0        0    42421728 -73.960043  40.798049\n",
       "1        1    42421731 -73.961474  40.798645\n",
       "2        2    42421737 -73.962886  40.799255\n",
       "3        3    42421741 -73.965705  40.800431\n",
       "4        4    42421745 -73.967994  40.801401\n",
       "...    ...         ...        ...        ...\n",
       "6377  6377  6516908811 -73.934972  40.809298\n",
       "6378  6378  6518638079 -74.004066  40.738196\n",
       "6379  6379  6552385855 -74.013365  40.710424\n",
       "6380  6380  6552385860 -74.013531  40.710615\n",
       "6381  6381  6575692624 -74.003735  40.758408\n",
       "\n",
       "[6382 rows x 4 columns]"
      ],
      "text/html": [
       "<div>\n",
       "<style scoped>\n",
       "    .dataframe tbody tr th:only-of-type {\n",
       "        vertical-align: middle;\n",
       "    }\n",
       "\n",
       "    .dataframe tbody tr th {\n",
       "        vertical-align: top;\n",
       "    }\n",
       "\n",
       "    .dataframe thead th {\n",
       "        text-align: right;\n",
       "    }\n",
       "</style>\n",
       "<table border=\"1\" class=\"dataframe\">\n",
       "  <thead>\n",
       "    <tr style=\"text-align: right;\">\n",
       "      <th></th>\n",
       "      <th>id</th>\n",
       "      <th>db_id</th>\n",
       "      <th>x</th>\n",
       "      <th>y</th>\n",
       "    </tr>\n",
       "  </thead>\n",
       "  <tbody>\n",
       "    <tr>\n",
       "      <th>0</th>\n",
       "      <td>0</td>\n",
       "      <td>42421728</td>\n",
       "      <td>-73.960043</td>\n",
       "      <td>40.798049</td>\n",
       "    </tr>\n",
       "    <tr>\n",
       "      <th>1</th>\n",
       "      <td>1</td>\n",
       "      <td>42421731</td>\n",
       "      <td>-73.961474</td>\n",
       "      <td>40.798645</td>\n",
       "    </tr>\n",
       "    <tr>\n",
       "      <th>2</th>\n",
       "      <td>2</td>\n",
       "      <td>42421737</td>\n",
       "      <td>-73.962886</td>\n",
       "      <td>40.799255</td>\n",
       "    </tr>\n",
       "    <tr>\n",
       "      <th>3</th>\n",
       "      <td>3</td>\n",
       "      <td>42421741</td>\n",
       "      <td>-73.965705</td>\n",
       "      <td>40.800431</td>\n",
       "    </tr>\n",
       "    <tr>\n",
       "      <th>4</th>\n",
       "      <td>4</td>\n",
       "      <td>42421745</td>\n",
       "      <td>-73.967994</td>\n",
       "      <td>40.801401</td>\n",
       "    </tr>\n",
       "    <tr>\n",
       "      <th>...</th>\n",
       "      <td>...</td>\n",
       "      <td>...</td>\n",
       "      <td>...</td>\n",
       "      <td>...</td>\n",
       "    </tr>\n",
       "    <tr>\n",
       "      <th>6377</th>\n",
       "      <td>6377</td>\n",
       "      <td>6516908811</td>\n",
       "      <td>-73.934972</td>\n",
       "      <td>40.809298</td>\n",
       "    </tr>\n",
       "    <tr>\n",
       "      <th>6378</th>\n",
       "      <td>6378</td>\n",
       "      <td>6518638079</td>\n",
       "      <td>-74.004066</td>\n",
       "      <td>40.738196</td>\n",
       "    </tr>\n",
       "    <tr>\n",
       "      <th>6379</th>\n",
       "      <td>6379</td>\n",
       "      <td>6552385855</td>\n",
       "      <td>-74.013365</td>\n",
       "      <td>40.710424</td>\n",
       "    </tr>\n",
       "    <tr>\n",
       "      <th>6380</th>\n",
       "      <td>6380</td>\n",
       "      <td>6552385860</td>\n",
       "      <td>-74.013531</td>\n",
       "      <td>40.710615</td>\n",
       "    </tr>\n",
       "    <tr>\n",
       "      <th>6381</th>\n",
       "      <td>6381</td>\n",
       "      <td>6575692624</td>\n",
       "      <td>-74.003735</td>\n",
       "      <td>40.758408</td>\n",
       "    </tr>\n",
       "  </tbody>\n",
       "</table>\n",
       "<p>6382 rows × 4 columns</p>\n",
       "</div>"
      ]
     },
     "execution_count": 10,
     "metadata": {},
     "output_type": "execute_result"
    }
   ],
   "execution_count": 10
  },
  {
   "cell_type": "code",
   "metadata": {
    "ExecuteTime": {
     "end_time": "2025-05-16T16:08:13.855924Z",
     "start_time": "2025-05-16T16:08:13.842897Z"
    }
   },
   "source": [
    "def generate_unique_queries(nodes_count, query_count):\n",
    "    selected_pairs_set = set()\n",
    "    # Max pairs if from != to. If nodes_count is 0 or 1, this will be 0.\n",
    "    max_possible_pairs = nodes_count * (nodes_count - 1) if nodes_count > 1 else 0\n",
    "\n",
    "    if query_count > max_possible_pairs:\n",
    "        print(f\"Warning: query_count ({query_count}) is greater than the maximum possible unique pairs ({max_possible_pairs}). Returning all possible pairs.\")\n",
    "        query_count = max_possible_pairs\n",
    "\n",
    "    if nodes_count < 2 and query_count > 0:\n",
    "        print(f\"Warning: Cannot generate pairs for nodes_count < 2. Returning empty DataFrame.\")\n",
    "        return pd.DataFrame(columns=['from', 'to'])\n",
    "\n",
    "    while len(selected_pairs_set) < query_count:\n",
    "        from_node = ra.randint(0, nodes_count - 1)\n",
    "        to_node = ra.randint(0, nodes_count - 1)\n",
    "        if from_node != to_node:\n",
    "            selected_pairs_set.add((from_node, to_node))\n",
    "\n",
    "    # Convert set to list and then to DataFrame\n",
    "    queries_df = pd.DataFrame(list(selected_pairs_set), columns=['from', 'to'])\n",
    "    return queries_df\n",
    "\n",
    "num_nodes = len(nodes)\n",
    "queries = generate_unique_queries(num_nodes, query_count)"
   ],
   "outputs": [],
   "execution_count": 8
  },
  {
   "cell_type": "code",
   "metadata": {
    "ExecuteTime": {
     "end_time": "2025-05-16T16:09:11.796Z",
     "start_time": "2025-05-16T16:09:11.758035Z"
    }
   },
   "source": [
    "# Save to file according to the specified format:\n",
    "# First line: count of queries\n",
    "# Subsequent lines: from_node to_node\n",
    "# Assuming 'out_path' is defined in a previous cell\n",
    "with open(out_path, 'w') as f: # Make sure 'out_path' is defined in a previous cell\n",
    "    f.write(f\"{len(queries)}\\n\")\n",
    "    for index, row in queries.iterrows():\n",
    "        f.write(f\"{row['from']} {row['to']}\\n\")"
   ],
   "outputs": [],
   "execution_count": 12
  }
 ],
 "metadata": {
  "kernelspec": {
   "display_name": "Python 3",
   "language": "python",
   "name": "python3"
  },
  "language_info": {
   "codemirror_mode": {
    "name": "ipython",
    "version": 3
   },
   "file_extension": ".py",
   "mimetype": "text/x-python",
   "name": "python",
   "nbconvert_exporter": "python",
   "pygments_lexer": "ipython3",
   "version": "3.8.2"
  }
 },
 "nbformat": 4,
 "nbformat_minor": 4
}
